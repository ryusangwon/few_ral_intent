{
 "cells": [
  {
   "cell_type": "code",
   "execution_count": 9,
   "outputs": [],
   "source": [
    "import numpy as np"
   ],
   "metadata": {
    "collapsed": false,
    "pycharm": {
     "name": "#%%\n"
    }
   }
  },
  {
   "cell_type": "code",
   "execution_count": 36,
   "outputs": [
    {
     "data": {
      "text/plain": "array([[[0.35885374, 0.62676029],\n        [0.11568794, 0.44984548],\n        [0.57234804, 0.28903402],\n        ...,\n        [0.25603351, 0.12748847],\n        [0.79083922, 0.55045302],\n        [0.66931587, 0.97616602]],\n\n       [[0.50245865, 0.9059413 ],\n        [0.75089031, 0.00712365],\n        [0.06454603, 0.26245748],\n        ...,\n        [0.15237727, 0.14036896],\n        [0.58190103, 0.60556858],\n        [0.76258613, 0.26109438]],\n\n       [[0.25906736, 0.77659851],\n        [0.87298313, 0.93604646],\n        [0.63546153, 0.84117461],\n        ...,\n        [0.61938883, 0.70253315],\n        [0.30305182, 0.08203173],\n        [0.97824743, 0.6776764 ]],\n\n       ...,\n\n       [[0.8689076 , 0.01448215],\n        [0.42205637, 0.37021343],\n        [0.79529498, 0.06009917],\n        ...,\n        [0.4665784 , 0.77944252],\n        [0.52330511, 0.02311216],\n        [0.94925797, 0.89896469]],\n\n       [[0.52091015, 0.80630682],\n        [0.90405716, 0.56953621],\n        [0.00137729, 0.65768761],\n        ...,\n        [0.58775803, 0.39205566],\n        [0.04858483, 0.88303814],\n        [0.75325022, 0.62933358]],\n\n       [[0.01343566, 0.30265572],\n        [0.91939914, 0.72055115],\n        [0.04419438, 0.2407956 ],\n        ...,\n        [0.05217019, 0.95700817],\n        [0.37170847, 0.91932972],\n        [0.20173001, 0.79833024]]])"
     },
     "execution_count": 36,
     "metadata": {},
     "output_type": "execute_result"
    }
   ],
   "source": [
    "preds = np.random.rand(4500, 750, 2)\n",
    "preds.shape\n",
    "preds"
   ],
   "metadata": {
    "collapsed": false,
    "pycharm": {
     "name": "#%%\n"
    }
   }
  },
  {
   "cell_type": "code",
   "execution_count": 46,
   "outputs": [
    {
     "name": "stdout",
     "output_type": "stream",
     "text": [
      "[450 711 570 ... 488 464 623]\n",
      "[0.999861   0.99672609 0.99501634 ... 0.99978538 0.99617845 0.99747574]\n"
     ]
    }
   ],
   "source": [
    "max_pos_idx = np.argmax(preds[:, :, 0], axis=1)\n",
    "max_prob = np.max(preds[:, :, 0], axis=1)\n",
    "print(max_pos_idx)\n",
    "print(max_prob)"
   ],
   "metadata": {
    "collapsed": false,
    "pycharm": {
     "name": "#%%\n"
    }
   }
  },
  {
   "cell_type": "code",
   "execution_count": 38,
   "outputs": [
    {
     "data": {
      "text/plain": "array([[[0.42981049, 0.82998218],\n        [0.90116601, 0.44093598],\n        [0.07379107, 0.24809304],\n        ...,\n        [0.74478253, 0.69042559],\n        [0.27485212, 0.09048621],\n        [0.32914215, 0.56880283]],\n\n       [[0.96449792, 0.64279589],\n        [0.91195274, 0.18290976],\n        [0.98417393, 0.4391652 ],\n        ...,\n        [0.30957372, 0.10341161],\n        [0.14042955, 0.52170824],\n        [0.36303308, 0.54583813]],\n\n       [[0.42410733, 0.74354715],\n        [0.00577305, 0.42324089],\n        [0.31216295, 0.32661457],\n        ...,\n        [0.2251652 , 0.68219845],\n        [0.220631  , 0.79554788],\n        [0.04250036, 0.35275283]],\n\n       ...,\n\n       [[0.84171779, 0.18027565],\n        [0.28820806, 0.65991908],\n        [0.64006264, 0.91568361],\n        ...,\n        [0.48330808, 0.32703548],\n        [0.59983648, 0.3507445 ],\n        [0.83174949, 0.13942122]],\n\n       [[0.45494919, 0.68690859],\n        [0.3507659 , 0.79645734],\n        [0.12125524, 0.10384265],\n        ...,\n        [0.12450427, 0.90134078],\n        [0.92513665, 0.38808227],\n        [0.96286821, 0.92751217]],\n\n       [[0.44487189, 0.75632577],\n        [0.16962644, 0.10783455],\n        [0.40360137, 0.52866398],\n        ...,\n        [0.37153302, 0.02980364],\n        [0.18991901, 0.39112297],\n        [0.83232286, 0.68536529]]])"
     },
     "execution_count": 38,
     "metadata": {},
     "output_type": "execute_result"
    }
   ],
   "source": [
    "preds = np.random.rand(4500, 2)\n",
    "preds.shape\n",
    "preds"
   ],
   "metadata": {
    "collapsed": false,
    "pycharm": {
     "name": "#%%\n"
    }
   }
  },
  {
   "cell_type": "code",
   "execution_count": 39,
   "outputs": [
    {
     "name": "stdout",
     "output_type": "stream",
     "text": [
      "[2272 1708]\n",
      "[0.99957686 0.99986886]\n"
     ]
    }
   ],
   "source": [
    "max_pos_idx = np.argmax(preds[:, 0], axis=0)\n",
    "max_prob = np.max(preds[:, 0], axis=0)\n",
    "print(max_pos_idx)\n",
    "print(max_prob)"
   ],
   "metadata": {
    "collapsed": false,
    "pycharm": {
     "name": "#%%\n"
    }
   }
  },
  {
   "cell_type": "code",
   "execution_count": 11,
   "outputs": [],
   "source": [
    "import torch\n",
    "import numpy as np"
   ],
   "metadata": {
    "collapsed": false,
    "pycharm": {
     "name": "#%%\n"
    }
   }
  },
  {
   "cell_type": "code",
   "execution_count": 2,
   "outputs": [],
   "source": [
    "last_hidden_state = torch.rand(128, 64, 768)"
   ],
   "metadata": {
    "collapsed": false,
    "pycharm": {
     "name": "#%%\n"
    }
   }
  },
  {
   "cell_type": "code",
   "execution_count": 58,
   "outputs": [
    {
     "name": "stdout",
     "output_type": "stream",
     "text": [
      "torch.Size([128, 64, 768])\n",
      "torch.Size([128, 64, 768, 1])\n",
      "torch.Size([128, 768, 1])\n"
     ]
    }
   ],
   "source": [
    "print(last_hidden_state.shape)\n",
    "print(last_hidden_state.unsqueeze(-1).shape)\n",
    "print((last_hidden_state.unsqueeze(-1)).sum(1).shape)"
   ],
   "metadata": {
    "collapsed": false,
    "pycharm": {
     "name": "#%%\n"
    }
   }
  },
  {
   "cell_type": "code",
   "execution_count": 3,
   "outputs": [
    {
     "name": "stdout",
     "output_type": "stream",
     "text": [
      "torch.Size([64, 768])\n"
     ]
    }
   ],
   "source": [
    "print(last_hidden_state.mean(0).shape)"
   ],
   "metadata": {
    "collapsed": false,
    "pycharm": {
     "name": "#%%\n"
    }
   }
  },
  {
   "cell_type": "code",
   "execution_count": 8,
   "outputs": [
    {
     "name": "stdout",
     "output_type": "stream",
     "text": [
      "torch.Size([128, 768])\n"
     ]
    }
   ],
   "source": [
    "print(last_hidden_state[:, 0, :].shape)"
   ],
   "metadata": {
    "collapsed": false,
    "pycharm": {
     "name": "#%%\n"
    }
   }
  },
  {
   "cell_type": "code",
   "execution_count": 9,
   "outputs": [],
   "source": [
    "fin =[]"
   ],
   "metadata": {
    "collapsed": false,
    "pycharm": {
     "name": "#%%\n"
    }
   }
  },
  {
   "cell_type": "code",
   "execution_count": 14,
   "outputs": [
    {
     "data": {
      "text/plain": "(8192, 768)"
     },
     "execution_count": 14,
     "metadata": {},
     "output_type": "execute_result"
    }
   ],
   "source": [
    "fin = np.vstack(last_hidden_state)\n",
    "fin.shape"
   ],
   "metadata": {
    "collapsed": false,
    "pycharm": {
     "name": "#%%\n"
    }
   }
  },
  {
   "cell_type": "code",
   "execution_count": 13,
   "outputs": [
    {
     "data": {
      "text/plain": "array([[0.56471384, 0.7245168 , 0.97719437, ..., 0.3802544 , 0.4924476 ,\n        0.12435031],\n       [0.14190078, 0.81030136, 0.45024008, ..., 0.49022263, 0.56941247,\n        0.39558887],\n       [0.9642991 , 0.90416795, 0.08739191, ..., 0.9540883 , 0.24052441,\n        0.7847944 ],\n       ...,\n       [0.5468793 , 0.8832087 , 0.9560511 , ..., 0.20327032, 0.85807145,\n        0.1506275 ],\n       [0.793249  , 0.97038305, 0.44503224, ..., 0.6106655 , 0.06232744,\n        0.46073228],\n       [0.81063646, 0.18758464, 0.56721693, ..., 0.7899558 , 0.81977075,\n        0.41923803]], dtype=float32)"
     },
     "execution_count": 13,
     "metadata": {},
     "output_type": "execute_result"
    }
   ],
   "source": [
    "fin"
   ],
   "metadata": {
    "collapsed": false,
    "pycharm": {
     "name": "#%%\n"
    }
   }
  }
 ],
 "metadata": {
  "kernelspec": {
   "display_name": "Python 3",
   "language": "python",
   "name": "python3"
  },
  "language_info": {
   "codemirror_mode": {
    "name": "ipython",
    "version": 2
   },
   "file_extension": ".py",
   "mimetype": "text/x-python",
   "name": "python",
   "nbconvert_exporter": "python",
   "pygments_lexer": "ipython2",
   "version": "2.7.6"
  }
 },
 "nbformat": 4,
 "nbformat_minor": 0
}