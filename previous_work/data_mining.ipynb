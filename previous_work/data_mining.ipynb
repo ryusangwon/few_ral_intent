{
 "cells": [
  {
   "cell_type": "code",
   "execution_count": 5,
   "id": "c3c27bd8-97af-4b62-8e1f-88f86d162dc7",
   "metadata": {},
   "outputs": [],
   "source": [
    "# sentencepiece 다루기\n",
    "\n",
    "import os\n",
    "import pandas as pd\n",
    "import sentencepiece as spm\n",
    "import sys\n",
    "import csv"
   ]
  },
  {
   "cell_type": "code",
   "execution_count": 6,
   "id": "9230b2a3-6d8a-4be0-b46a-0ceb3d845c34",
   "metadata": {},
   "outputs": [
    {
     "data": {
      "text/plain": [
       "131072"
      ]
     },
     "execution_count": 6,
     "metadata": {},
     "output_type": "execute_result"
    }
   ],
   "source": [
    "csv.field_size_limit(sys.maxsize)"
   ]
  },
  {
   "cell_type": "code",
   "execution_count": 15,
   "id": "f2f07598-d2f6-4dca-8ea7-2bf0d6c387e6",
   "metadata": {},
   "outputs": [],
   "source": [
    "# in_file의 csv파일을 txt파일로 변환한다.\n",
    "\n",
    "in_file = '../web-crawler/kowiki/kowiki_20220216.csv'\n",
    "out_file = './kor_wiki.txt'\n",
    "SEPARATOR = u\"\\u241D\"\n",
    "\n",
    "df = pd.read_csv(in_file, sep=SEPARATOR, engine='python')\n",
    "with open(out_file, 'w') as f:\n",
    "    for index, row in df.iterrows():\n",
    "        f.write(row['text']) # title은 저장하지 않고 text만 저장한다.\n",
    "        f.write('\\n\\n\\n\\n') # 구분자"
   ]
  },
  {
   "cell_type": "code",
   "execution_count": 16,
   "id": "f6aaf53c-5056-40b2-9add-e5dc41a89a35",
   "metadata": {},
   "outputs": [],
   "source": [
    "# .model 파일과 .vocab 파일을 생성한다.\n",
    "\n",
    "corpus = 'kor_wiki.txt'\n",
    "prefix = 'kor_wiki'\n",
    "vocab_size = 8000\n",
    "spm.SentencePieceTrainer.train(\n",
    "    input=corpus,\n",
    "    model_prefix=prefix,\n",
    "    vocab_size=vocab_size+7)"
   ]
  },
  {
   "cell_type": "code",
   "execution_count": 17,
   "id": "7915fafb-af4e-481a-b678-9de1097dd7d0",
   "metadata": {},
   "outputs": [
    {
     "name": "stdout",
     "output_type": "stream",
     "text": [
      "한국어를 공부해보겠습니다\n",
      "['▁한국', '어', '를', '▁공부', '해', '보', '겠', '습니다']\n",
      "[329, 41, 16, 3333, 48, 109, 4465, 2561]\n",
      "\n",
      "문장 단위로 나누어 볼께요\n",
      "['▁문', '장', '▁단위', '로', '▁나', '누', '어', '▁볼', '께', '요']\n",
      "[472, 72, 3315, 17, 247, 1300, 41, 713, 3702, 324]\n",
      "\n",
      "문맥을 이해하는 것이 중요해요\n",
      "['▁문', '맥', '을', '▁이해', '하는', '▁것이', '▁중요', '해', '요']\n",
      "[472, 2160, 8, 2247, 40, 414, 2363, 48, 324]\n",
      "\n"
     ]
    }
   ],
   "source": [
    "vocab_file = './kor_wiki.model'\n",
    "vocab = spm.SentencePieceProcessor()\n",
    "vocab.load(vocab_file)\n",
    "\n",
    "lines = [\n",
    "    '한국어를 공부해보겠습니다',\n",
    "    '문장 단위로 나누어 볼께요',\n",
    "    '문맥을 이해하는 것이 중요해요',\n",
    "]\n",
    "\n",
    "for line in lines:\n",
    "    pieces = vocab.encode_as_pieces(line)\n",
    "    ids = vocab.encode_as_ids(line)\n",
    "    print(line)\n",
    "    print(pieces)\n",
    "    print(ids)\n",
    "    print()"
   ]
  },
  {
   "cell_type": "code",
   "execution_count": null,
   "id": "31e6adab-315a-4012-89e7-24cbb1ab545d",
   "metadata": {},
   "outputs": [],
   "source": []
  }
 ],
 "metadata": {
  "kernelspec": {
   "display_name": "Python 3",
   "language": "python",
   "name": "python3"
  },
  "language_info": {
   "codemirror_mode": {
    "name": "ipython",
    "version": 3
   },
   "file_extension": ".py",
   "mimetype": "text/x-python",
   "name": "python",
   "nbconvert_exporter": "python",
   "pygments_lexer": "ipython3",
   "version": "3.8.12"
  }
 },
 "nbformat": 4,
 "nbformat_minor": 5
}
