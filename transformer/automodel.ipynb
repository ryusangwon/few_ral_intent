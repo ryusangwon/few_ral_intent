{
 "cells": [
  {
   "cell_type": "code",
   "execution_count": 2,
   "id": "81c6f49a-1aa3-4979-b9e4-bc3bf64149dd",
   "metadata": {},
   "outputs": [],
   "source": [
    "import torch\n",
    "from transformers import AutoConfig, AutoTokenizer, AutoModelForSequenceClassification"
   ]
  },
  {
   "cell_type": "code",
   "execution_count": 3,
   "id": "4aecb4e9-f615-4599-87fd-412a50a62e9f",
   "metadata": {},
   "outputs": [],
   "source": [
    "# deberta = \"microsoft/deberta-base\"\n",
    "roberta = \"roberta-base\""
   ]
  },
  {
   "cell_type": "code",
   "execution_count": 4,
   "id": "8b21764f-0ec5-4d24-b48c-f76ef490334a",
   "metadata": {},
   "outputs": [],
   "source": [
    "# debert_tokenizer = AutoTokenizer.from_pretrained(deberta)\n",
    "robert_tokenizer = AutoTokenizer.from_pretrained(roberta)"
   ]
  },
  {
   "cell_type": "code",
   "execution_count": 30,
   "id": "cf2ea70f-3bc4-42b0-a265-e24bbfd9335a",
   "metadata": {},
   "outputs": [
    {
     "name": "stdout",
     "output_type": "stream",
     "text": [
      "robert: [0, 713, 16, 10, 7728, 2788, 6, 452, 18, 1650, 16, 45, 98, 205, 4, 1336, 32, 47, 2, 2, 3592, 6, 2579, 7, 972, 47, 2]\n",
      "encode length: 27\n",
      "sentence length: 2\n",
      "each sentence length: 66 20\n"
     ]
    }
   ],
   "source": [
    "sentence = \"This is a sample text, today's weather is not so good. How are you\", \"hi, nice to meet you\"\n",
    "# debert_tokenized_input = debert_tokenizer.encode(\"This is a sample text\")\n",
    "robert_tokenized_input = robert_tokenizer.encode(sentence)\n",
    "# print(\"debert: \", debert_tokenized_input)\n",
    "print(\"robert:\", robert_tokenized_input)\n",
    "print(\"encode length:\", len(robert_tokenized_input))\n",
    "print(\"sentence length:\", len(sentence))\n",
    "print(\"each sentence length:\", len(sentence[0]), len(sentence[1]))"
   ]
  },
  {
   "cell_type": "code",
   "execution_count": 15,
   "id": "68063d1c-9c2d-4159-b3fe-89ce402bee9e",
   "metadata": {},
   "outputs": [
    {
     "name": "stderr",
     "output_type": "stream",
     "text": [
      "Some weights of the model checkpoint at roberta-base were not used when initializing RobertaForSequenceClassification: ['lm_head.dense.bias', 'roberta.pooler.dense.bias', 'lm_head.layer_norm.bias', 'lm_head.layer_norm.weight', 'lm_head.dense.weight', 'lm_head.bias', 'roberta.pooler.dense.weight', 'lm_head.decoder.weight']\n",
      "- This IS expected if you are initializing RobertaForSequenceClassification from the checkpoint of a model trained on another task or with another architecture (e.g. initializing a BertForSequenceClassification model from a BertForPreTraining model).\n",
      "- This IS NOT expected if you are initializing RobertaForSequenceClassification from the checkpoint of a model that you expect to be exactly identical (initializing a BertForSequenceClassification model from a BertForSequenceClassification model).\n",
      "Some weights of RobertaForSequenceClassification were not initialized from the model checkpoint at roberta-base and are newly initialized: ['classifier.dense.bias', 'classifier.out_proj.bias', 'classifier.out_proj.weight', 'classifier.dense.weight']\n",
      "You should probably TRAIN this model on a down-stream task to be able to use it for predictions and inference.\n"
     ]
    }
   ],
   "source": [
    "# debert_model = AutoModelForSequenceClassification.from_pretrained(deberta)\n",
    "robert_model = AutoModelForSequenceClassification.from_pretrained(roberta)"
   ]
  },
  {
   "cell_type": "code",
   "execution_count": 7,
   "id": "baf31eae-83de-4a01-9d43-5cb0e403b98a",
   "metadata": {},
   "outputs": [],
   "source": [
    "# output = debert_model(torch.tensor([debert_tokenized_input]))\n",
    "# print(output)"
   ]
  },
  {
   "cell_type": "code",
   "execution_count": 22,
   "id": "f78a9327-92e7-4db7-a8c8-7943faabeff0",
   "metadata": {},
   "outputs": [
    {
     "name": "stdout",
     "output_type": "stream",
     "text": [
      "SequenceClassifierOutput(loss=None, logits=tensor([[ 0.0715, -0.0228]], grad_fn=<AddmmBackward0>), hidden_states=None, attentions=None)\n",
      "tensor([[ 0.0715, -0.0228]], grad_fn=<AddmmBackward0>)\n",
      "torch.Size([1, 2])\n"
     ]
    }
   ],
   "source": [
    "output = robert_model(torch.tensor([robert_tokenized_input]))\n",
    "print(output)\n",
    "print(output.logits)\n",
    "print(output.logits.shape)"
   ]
  },
  {
   "cell_type": "code",
   "execution_count": 17,
   "id": "7151846e-bffa-4f5c-9178-c8896a9c6c3e",
   "metadata": {},
   "outputs": [
    {
     "name": "stdout",
     "output_type": "stream",
     "text": [
      "tensor([[ 0.0778, -0.0295]], grad_fn=<AddmmBackward0>)\n"
     ]
    }
   ],
   "source": [
    "print(output[0])"
   ]
  }
 ],
 "metadata": {
  "kernelspec": {
   "display_name": "Python 3 (ipykernel)",
   "language": "python",
   "name": "python3"
  },
  "language_info": {
   "codemirror_mode": {
    "name": "ipython",
    "version": 3
   },
   "file_extension": ".py",
   "mimetype": "text/x-python",
   "name": "python",
   "nbconvert_exporter": "python",
   "pygments_lexer": "ipython3",
   "version": "3.9.7"
  }
 },
 "nbformat": 4,
 "nbformat_minor": 5
}
