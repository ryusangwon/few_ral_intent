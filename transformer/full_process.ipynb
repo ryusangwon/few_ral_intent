{
 "cells": [
  {
   "cell_type": "code",
   "execution_count": 1,
   "id": "57b2fe91-5885-43ea-8a50-a0800f286540",
   "metadata": {
    "pycharm": {
     "name": "#%%\n"
    }
   },
   "outputs": [],
   "source": [
    "from transformers import RobertaTokenizer, RobertaConfig, RobertaModel\n",
    "import numpy as np\n",
    "import matplotlib.pyplot as plt\n",
    "import pandas as pd\n",
    "from sklearn.manifold import TSNE\n",
    "import seaborn as sns"
   ]
  },
  {
   "cell_type": "code",
   "execution_count": 2,
   "id": "55eb5573-9a51-487f-b987-04ee01743894",
   "metadata": {
    "pycharm": {
     "name": "#%%\n"
    }
   },
   "outputs": [],
   "source": [
    "input_sequence = \"This article is about the online encyclopedia. For Wikipedia's home page, see Main Page. For the English edition, see English Wikipedia.\"\n",
    "tokenizer = RobertaTokenizer.from_pretrained(\"roberta-base\")\n",
    "input_tokens = tokenizer(input_sequence, return_tensors=\"pt\")"
   ]
  },
  {
   "cell_type": "code",
   "execution_count": 3,
   "id": "a860b561-12c2-404b-9966-475c20df5931",
   "metadata": {
    "pycharm": {
     "name": "#%%\n"
    }
   },
   "outputs": [
    {
     "name": "stdout",
     "output_type": "stream",
     "text": [
      "{'input_ids': tensor([[    0,   713,  1566,    16,    59,     5,   804, 45975,     4,   286,\n",
      "         28274,    18,   184,  1842,     6,   192,  4326,  7086,     4,   286,\n",
      "             5,  2370,  5403,     6,   192,  2370, 28274,     4,     2]]), 'attention_mask': tensor([[1, 1, 1, 1, 1, 1, 1, 1, 1, 1, 1, 1, 1, 1, 1, 1, 1, 1, 1, 1, 1, 1, 1, 1,\n",
      "         1, 1, 1, 1, 1]])}\n"
     ]
    }
   ],
   "source": [
    "print(input_tokens)"
   ]
  },
  {
   "cell_type": "code",
   "execution_count": 4,
   "id": "ebb6cde5-a14c-4348-911d-bd1429799069",
   "metadata": {
    "pycharm": {
     "name": "#%%\n"
    }
   },
   "outputs": [
    {
     "name": "stdout",
     "output_type": "stream",
     "text": [
      "1\n",
      "2\n",
      "136\n",
      "torch.Size([1, 29])\n"
     ]
    }
   ],
   "source": [
    "print(len(input_tokens[\"input_ids\"]))\n",
    "print(len(input_tokens))\n",
    "print(len(input_sequence))\n",
    "print(input_tokens[\"input_ids\"].shape)"
   ]
  },
  {
   "cell_type": "code",
   "execution_count": 5,
   "id": "3e011082-bc71-4492-a529-c27700467509",
   "metadata": {
    "pycharm": {
     "name": "#%%\n"
    }
   },
   "outputs": [
    {
     "data": {
      "text/plain": "RobertaConfig {\n  \"architectures\": [\n    \"RobertaForMaskedLM\"\n  ],\n  \"attention_probs_dropout_prob\": 0.1,\n  \"bos_token_id\": 0,\n  \"eos_token_id\": 2,\n  \"gradient_checkpointing\": false,\n  \"hidden_act\": \"gelu\",\n  \"hidden_dropout_prob\": 0.1,\n  \"hidden_size\": 768,\n  \"initializer_range\": 0.02,\n  \"intermediate_size\": 3072,\n  \"layer_norm_eps\": 1e-05,\n  \"max_position_embeddings\": 514,\n  \"model_type\": \"roberta\",\n  \"num_attention_heads\": 12,\n  \"num_hidden_layers\": 12,\n  \"pad_token_id\": 1,\n  \"position_embedding_type\": \"absolute\",\n  \"transformers_version\": \"4.5.1\",\n  \"type_vocab_size\": 1,\n  \"use_cache\": true,\n  \"vocab_size\": 50265\n}"
     },
     "execution_count": 5,
     "metadata": {},
     "output_type": "execute_result"
    }
   ],
   "source": [
    "config = RobertaConfig.from_pretrained(\"roberta-base\")\n",
    "config"
   ]
  },
  {
   "cell_type": "code",
   "execution_count": 6,
   "id": "e0b9d62c-d514-496e-bc79-0c1e49285277",
   "metadata": {
    "pycharm": {
     "name": "#%%\n"
    }
   },
   "outputs": [
    {
     "name": "stdout",
     "output_type": "stream",
     "text": [
      "{'input_ids': tensor([[    0,   713,  1566,    16,    59,     5,   804, 45975,     4,   286,\n",
      "         28274,    18,   184,  1842,     6,   192,  4326,  7086,     4,   286,\n",
      "             5,  2370,  5403,     6,   192,  2370, 28274,     4,     2]]), 'attention_mask': tensor([[1, 1, 1, 1, 1, 1, 1, 1, 1, 1, 1, 1, 1, 1, 1, 1, 1, 1, 1, 1, 1, 1, 1, 1,\n",
      "         1, 1, 1, 1, 1]])}\n",
      "<class 'transformers.tokenization_utils_base.BatchEncoding'>\n"
     ]
    }
   ],
   "source": [
    "model = RobertaModel.from_pretrained(\"roberta-base\")\n",
    "test_model = RobertaModel(config)\n",
    "\n",
    "# print(model(tokenizer(input)))\n",
    "print(input_tokens)\n",
    "print(type(input_tokens))"
   ]
  },
  {
   "cell_type": "code",
   "execution_count": 7,
   "id": "e1b4a829-310d-46e7-b029-5f758a8283d7",
   "metadata": {
    "pycharm": {
     "name": "#%%\n"
    }
   },
   "outputs": [],
   "source": [
    "output = model(**input_tokens)"
   ]
  },
  {
   "cell_type": "code",
   "execution_count": 8,
   "id": "88a7484f-b32b-468e-8c0d-e1ec134ac268",
   "metadata": {
    "pycharm": {
     "name": "#%%\n"
    }
   },
   "outputs": [
    {
     "name": "stdout",
     "output_type": "stream",
     "text": [
      "tensor([[[-0.0687,  0.1148, -0.0107,  ..., -0.0608, -0.0302, -0.0069],\n",
      "         [-0.0199,  0.3111,  0.1839,  ...,  0.2201,  0.1864,  0.1628],\n",
      "         [-0.0253,  0.0368,  0.1066,  ..., -0.0771,  0.0607,  0.0478],\n",
      "         ...,\n",
      "         [-0.0151,  0.0967, -0.0219,  ...,  0.0838, -0.1042,  0.1099],\n",
      "         [-0.0540,  0.1086, -0.0280,  ..., -0.0952, -0.0375, -0.0346],\n",
      "         [ 0.0469,  0.1201,  0.0909,  ...,  0.0650, -0.0264,  0.0491]]],\n",
      "       grad_fn=<NativeLayerNormBackward0>)\n",
      "torch.Size([1, 29, 768])\n",
      "(29, 768)\n"
     ]
    }
   ],
   "source": [
    "last_hidden_state = output.last_hidden_state\n",
    "print(last_hidden_state)\n",
    "print(last_hidden_state.shape) # [batch_size, 문장길이, 단어벡터의 차원]\n",
    "last_hidden_state_np = last_hidden_state.squeeze().detach().numpy()\n",
    "print(last_hidden_state_np.shape)"
   ]
  },
  {
   "cell_type": "code",
   "execution_count": 9,
   "id": "5042ef47-03ce-44d7-9b01-163340d1983f",
   "metadata": {
    "pycharm": {
     "name": "#%%\n"
    }
   },
   "outputs": [],
   "source": [
    "n_components=2\n",
    "tsne = TSNE(n_components=n_components)"
   ]
  },
  {
   "cell_type": "code",
   "execution_count": 10,
   "id": "47ec6e5f-54eb-46ac-9880-4d3c447de3ab",
   "metadata": {
    "pycharm": {
     "name": "#%%\n"
    }
   },
   "outputs": [
    {
     "name": "stdout",
     "output_type": "stream",
     "text": [
      "[[ 60.13737  -66.49202 ]\n",
      " [-23.78555   61.197   ]\n",
      " [ 42.947674  47.13421 ]\n",
      " [-57.86938    2.018987]\n",
      " [-58.45608   41.1023  ]\n",
      " [ 10.870665 -12.75909 ]\n",
      " [-46.462402 -34.00601 ]\n",
      " [-96.02212   13.779788]\n",
      " [ 58.498142  84.57026 ]\n",
      " [ 17.559822 -86.43832 ]\n",
      " [ 49.27218  -20.552435]\n",
      " [-11.44949  -44.95708 ]\n",
      " [ 66.171776  13.933795]\n",
      " [ 22.096165 107.00733 ]\n",
      " [-25.392677 -81.5787  ]\n",
      " [ 86.99247  -32.03656 ]\n",
      " [-66.6052   -67.91969 ]\n",
      " [-20.170708 102.14712 ]\n",
      " [ 85.839386  51.602818]\n",
      " [ 12.608202  68.12313 ]\n",
      " [ 24.45339  -47.363754]\n",
      " [-58.54001   84.677246]\n",
      " [  4.424034  31.952826]\n",
      " [-94.31663   57.85573 ]\n",
      " [-88.88827  -28.449726]\n",
      " [104.73845    8.87993 ]\n",
      " [ 30.97722   12.951329]\n",
      " [-27.280298  24.628685]\n",
      " [-20.83812   -7.542474]]\n"
     ]
    }
   ],
   "source": [
    "last_hidden_state_tsne = tsne.fit_transform(last_hidden_state_np)\n",
    "print(last_hidden_state_tsne)"
   ]
  },
  {
   "cell_type": "code",
   "execution_count": 11,
   "outputs": [
    {
     "ename": "AttributeError",
     "evalue": "'AxesSubplot' object has no attribute 'show'",
     "output_type": "error",
     "traceback": [
      "\u001B[0;31m---------------------------------------------------------------------------\u001B[0m",
      "\u001B[0;31mAttributeError\u001B[0m                            Traceback (most recent call last)",
      "\u001B[0;32m<ipython-input-11-5eb535292bb5>\u001B[0m in \u001B[0;36m<module>\u001B[0;34m\u001B[0m\n\u001B[1;32m     10\u001B[0m \u001B[0mplt\u001B[0m\u001B[0;34m.\u001B[0m\u001B[0mfigure\u001B[0m\u001B[0;34m(\u001B[0m\u001B[0mfigsize\u001B[0m\u001B[0;34m=\u001B[0m\u001B[0;34m(\u001B[0m\u001B[0;36m20\u001B[0m\u001B[0;34m,\u001B[0m \u001B[0;36m15\u001B[0m\u001B[0;34m)\u001B[0m\u001B[0;34m)\u001B[0m\u001B[0;34m\u001B[0m\u001B[0;34m\u001B[0m\u001B[0m\n\u001B[1;32m     11\u001B[0m \u001B[0mfig\u001B[0m \u001B[0;34m=\u001B[0m \u001B[0msns\u001B[0m\u001B[0;34m.\u001B[0m\u001B[0mscatterplot\u001B[0m\u001B[0;34m(\u001B[0m\u001B[0mdata\u001B[0m \u001B[0;34m=\u001B[0m \u001B[0membed\u001B[0m\u001B[0;34m,\u001B[0m \u001B[0mx\u001B[0m\u001B[0;34m=\u001B[0m\u001B[0;34m'x'\u001B[0m\u001B[0;34m,\u001B[0m\u001B[0my\u001B[0m\u001B[0;34m=\u001B[0m\u001B[0;34m\"y\"\u001B[0m\u001B[0;34m)\u001B[0m\u001B[0;34m\u001B[0m\u001B[0;34m\u001B[0m\u001B[0m\n\u001B[0;32m---> 12\u001B[0;31m \u001B[0mfig\u001B[0m\u001B[0;34m.\u001B[0m\u001B[0mshow\u001B[0m\u001B[0;34m(\u001B[0m\u001B[0;34m)\u001B[0m\u001B[0;34m\u001B[0m\u001B[0;34m\u001B[0m\u001B[0m\n\u001B[0m",
      "\u001B[0;31mAttributeError\u001B[0m: 'AxesSubplot' object has no attribute 'show'"
     ]
    },
    {
     "data": {
      "text/plain": "<Figure size 1440x1080 with 1 Axes>",
      "image/png": "[encoded data removed]"
     },
     "metadata": {
      "needs_background": "light"
     },
     "output_type": "display_data"
    }
   ],
   "source": [
    "import seaborn as sns\n",
    "\n",
    "n_components=2\n",
    "tsne = TSNE(n_components=n_components)\n",
    "\n",
    "\n",
    "model = TSNE(n_components= 2,init='pca',perplexity=40)\n",
    "embed = pd.DataFrame(model.fit_transform(last_hidden_state_np), columns=['x', 'y'])\n",
    "\n",
    "plt.figure(figsize=(20, 15))\n",
    "fig = sns.scatterplot(data = embed, x='x',y=\"y\")\n",
    "fig.show()"
   ],
   "metadata": {
    "collapsed": false,
    "pycharm": {
     "name": "#%%\n"
    }
   }
  },
  {
   "cell_type": "code",
   "execution_count": null,
   "outputs": [],
   "source": [],
   "metadata": {
    "collapsed": false,
    "pycharm": {
     "name": "#%%\n"
    }
   }
  },
  {
   "cell_type": "code",
   "execution_count": null,
   "outputs": [],
   "source": [],
   "metadata": {
    "collapsed": false,
    "pycharm": {
     "name": "#%%\n"
    }
   }
  }
 ],
 "metadata": {
  "kernelspec": {
   "display_name": "Python 3 (ipykernel)",
   "language": "python",
   "name": "python3"
  },
  "language_info": {
   "codemirror_mode": {
    "name": "ipython",
    "version": 3
   },
   "file_extension": ".py",
   "mimetype": "text/x-python",
   "name": "python",
   "nbconvert_exporter": "python",
   "pygments_lexer": "ipython3",
   "version": "3.9.7"
  }
 },
 "nbformat": 4,
 "nbformat_minor": 5
}