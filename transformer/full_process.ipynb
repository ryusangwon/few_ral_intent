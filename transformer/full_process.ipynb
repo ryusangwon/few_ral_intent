{
 "cells": [
  {
   "cell_type": "code",
   "execution_count": 49,
   "id": "57b2fe91-5885-43ea-8a50-a0800f286540",
   "metadata": {},
   "outputs": [],
   "source": [
    "from transformers import RobertaTokenizer, RobertaConfig, RobertaModel\n",
    "import numpy as np\n",
    "import matplotlib.pyplot as plt\n",
    "import pandas as pd\n",
    "from sklearn.manifold import TSNE\n",
    "import seaborn as sns"
   ]
  },
  {
   "cell_type": "code",
   "execution_count": 9,
   "id": "55eb5573-9a51-487f-b987-04ee01743894",
   "metadata": {},
   "outputs": [],
   "source": [
    "input_sequence = \"This article is about the online encyclopedia. For Wikipedia's home page, see Main Page. For the English edition, see English Wikipedia.\"\n",
    "tokenizer = RobertaTokenizer.from_pretrained(\"roberta-base\")\n",
    "input_tokens = tokenizer(input_sequence, return_tensors=\"pt\")"
   ]
  },
  {
   "cell_type": "code",
   "execution_count": 65,
   "id": "a860b561-12c2-404b-9966-475c20df5931",
   "metadata": {},
   "outputs": [
    {
     "name": "stdout",
     "output_type": "stream",
     "text": [
      "{'input_ids': tensor([[    0,   713,  1566,    16,    59,     5,   804, 45975,     4,   286,\n",
      "         28274,    18,   184,  1842,     6,   192,  4326,  7086,     4,   286,\n",
      "             5,  2370,  5403,     6,   192,  2370, 28274,     4,     2]]), 'attention_mask': tensor([[1, 1, 1, 1, 1, 1, 1, 1, 1, 1, 1, 1, 1, 1, 1, 1, 1, 1, 1, 1, 1, 1, 1, 1,\n",
      "         1, 1, 1, 1, 1]])}\n"
     ]
    }
   ],
   "source": [
    "print(input_tokens)"
   ]
  },
  {
   "cell_type": "code",
   "execution_count": 15,
   "id": "ebb6cde5-a14c-4348-911d-bd1429799069",
   "metadata": {},
   "outputs": [
    {
     "name": "stdout",
     "output_type": "stream",
     "text": [
      "1\n",
      "2\n",
      "136\n",
      "torch.Size([1, 29])\n"
     ]
    }
   ],
   "source": [
    "print(len(input_tokens[\"input_ids\"]))\n",
    "print(len(input_tokens))\n",
    "print(len(input_sequence))\n",
    "print(input_tokens[\"input_ids\"].shape)"
   ]
  },
  {
   "cell_type": "code",
   "execution_count": 16,
   "id": "3e011082-bc71-4492-a529-c27700467509",
   "metadata": {},
   "outputs": [
    {
     "data": {
      "text/plain": [
       "RobertaConfig {\n",
       "  \"architectures\": [\n",
       "    \"RobertaForMaskedLM\"\n",
       "  ],\n",
       "  \"attention_probs_dropout_prob\": 0.1,\n",
       "  \"bos_token_id\": 0,\n",
       "  \"classifier_dropout\": null,\n",
       "  \"eos_token_id\": 2,\n",
       "  \"hidden_act\": \"gelu\",\n",
       "  \"hidden_dropout_prob\": 0.1,\n",
       "  \"hidden_size\": 768,\n",
       "  \"initializer_range\": 0.02,\n",
       "  \"intermediate_size\": 3072,\n",
       "  \"layer_norm_eps\": 1e-05,\n",
       "  \"max_position_embeddings\": 514,\n",
       "  \"model_type\": \"roberta\",\n",
       "  \"num_attention_heads\": 12,\n",
       "  \"num_hidden_layers\": 12,\n",
       "  \"pad_token_id\": 1,\n",
       "  \"position_embedding_type\": \"absolute\",\n",
       "  \"transformers_version\": \"4.17.0\",\n",
       "  \"type_vocab_size\": 1,\n",
       "  \"use_cache\": true,\n",
       "  \"vocab_size\": 50265\n",
       "}"
      ]
     },
     "execution_count": 16,
     "metadata": {},
     "output_type": "execute_result"
    }
   ],
   "source": [
    "config = RobertaConfig.from_pretrained(\"roberta-base\")\n",
    "config"
   ]
  },
  {
   "cell_type": "code",
   "execution_count": 17,
   "id": "e0b9d62c-d514-496e-bc79-0c1e49285277",
   "metadata": {},
   "outputs": [
    {
     "name": "stderr",
     "output_type": "stream",
     "text": [
      "Some weights of the model checkpoint at roberta-base were not used when initializing RobertaModel: ['lm_head.bias', 'lm_head.layer_norm.weight', 'lm_head.layer_norm.bias', 'lm_head.decoder.weight', 'lm_head.dense.bias', 'lm_head.dense.weight']\n",
      "- This IS expected if you are initializing RobertaModel from the checkpoint of a model trained on another task or with another architecture (e.g. initializing a BertForSequenceClassification model from a BertForPreTraining model).\n",
      "- This IS NOT expected if you are initializing RobertaModel from the checkpoint of a model that you expect to be exactly identical (initializing a BertForSequenceClassification model from a BertForSequenceClassification model).\n"
     ]
    },
    {
     "name": "stdout",
     "output_type": "stream",
     "text": [
      "{'input_ids': tensor([[    0,   713,  1566,    16,    59,     5,   804, 45975,     4,   286,\n",
      "         28274,    18,   184,  1842,     6,   192,  4326,  7086,     4,   286,\n",
      "             5,  2370,  5403,     6,   192,  2370, 28274,     4,     2]]), 'attention_mask': tensor([[1, 1, 1, 1, 1, 1, 1, 1, 1, 1, 1, 1, 1, 1, 1, 1, 1, 1, 1, 1, 1, 1, 1, 1,\n",
      "         1, 1, 1, 1, 1]])}\n",
      "<class 'transformers.tokenization_utils_base.BatchEncoding'>\n"
     ]
    }
   ],
   "source": [
    "model = RobertaModel.from_pretrained(\"roberta-base\")\n",
    "test_model = RobertaModel(config)\n",
    "\n",
    "# print(model(tokenizer(input)))\n",
    "print(input_tokens)\n",
    "print(type(input_tokens))"
   ]
  },
  {
   "cell_type": "code",
   "execution_count": 18,
   "id": "e1b4a829-310d-46e7-b029-5f758a8283d7",
   "metadata": {},
   "outputs": [],
   "source": [
    "output = model(**input_tokens)"
   ]
  },
  {
   "cell_type": "code",
   "execution_count": 41,
   "id": "88a7484f-b32b-468e-8c0d-e1ec134ac268",
   "metadata": {},
   "outputs": [
    {
     "name": "stdout",
     "output_type": "stream",
     "text": [
      "tensor([[[-0.0687,  0.1148, -0.0107,  ..., -0.0608, -0.0302, -0.0069],\n",
      "         [-0.0199,  0.3111,  0.1839,  ...,  0.2201,  0.1864,  0.1628],\n",
      "         [-0.0253,  0.0368,  0.1066,  ..., -0.0771,  0.0607,  0.0478],\n",
      "         ...,\n",
      "         [-0.0151,  0.0967, -0.0219,  ...,  0.0838, -0.1042,  0.1099],\n",
      "         [-0.0540,  0.1086, -0.0280,  ..., -0.0952, -0.0375, -0.0346],\n",
      "         [ 0.0469,  0.1201,  0.0909,  ...,  0.0650, -0.0264,  0.0491]]],\n",
      "       grad_fn=<NativeLayerNormBackward0>)\n",
      "torch.Size([1, 29, 768])\n",
      "(29, 768)\n"
     ]
    }
   ],
   "source": [
    "last_hidden_state = output.last_hidden_state\n",
    "print(last_hidden_state)\n",
    "print(last_hidden_state.shape) # [batch_size, 문장길이, 단어벡터의 차원]\n",
    "last_hidden_state_np = last_hidden_state.squeeze().detach().numpy()\n",
    "print(last_hidden_state_np.shape)"
   ]
  },
  {
   "cell_type": "code",
   "execution_count": 50,
   "id": "5042ef47-03ce-44d7-9b01-163340d1983f",
   "metadata": {},
   "outputs": [],
   "source": [
    "n_components=2\n",
    "tsne = TSNE(n_components=n_components)"
   ]
  },
  {
   "cell_type": "code",
   "execution_count": 78,
   "id": "47ec6e5f-54eb-46ac-9880-4d3c447de3ab",
   "metadata": {},
   "outputs": [
    {
     "name": "stdout",
     "output_type": "stream",
     "text": [
      "[[ 169.28554     62.8543   ]\n",
      " [ -65.55237    -51.58612  ]\n",
      " [  16.001173   -37.516373 ]\n",
      " [  74.11719    167.63075  ]\n",
      " [   8.458613   198.87854  ]\n",
      " [  -7.0442247  101.87071  ]\n",
      " [ -11.319729   -90.55644  ]\n",
      " [-124.7632     -82.01748  ]\n",
      " [ 125.291824   117.89238  ]\n",
      " [ 129.39835    -59.046787 ]\n",
      " [ -30.500294    51.803234 ]\n",
      " [ 121.84996     13.545472 ]\n",
      " [  82.46415     59.452553 ]\n",
      " [-144.22597    -11.623636 ]\n",
      " [-147.31456     66.97384  ]\n",
      " [ -87.263084    22.025677 ]\n",
      " [  48.475094   106.53284  ]\n",
      " [ -39.06154    151.66096  ]\n",
      " [ 108.340416  -132.92804  ]\n",
      " [ -29.243252    -4.8324723]\n",
      " [  28.659584    29.939804 ]\n",
      " [  61.484184   -83.973625 ]\n",
      " [  19.125887  -206.90794  ]\n",
      " [-105.74046    170.90448  ]\n",
      " [ -83.42256     94.89753  ]\n",
      " [ 187.00021    -19.219046 ]\n",
      " [  71.10636    -18.402475 ]\n",
      " [ -66.057785  -132.78914  ]\n",
      " [  20.543941  -145.74377  ]]\n"
     ]
    }
   ],
   "source": [
    "last_hidden_state_tsne = tsne.fit_transform(last_hidden_state_np)\n",
    "print(last_hidden_state_tsne)"
   ]
  },
  {
   "cell_type": "code",
   "execution_count": null,
   "id": "c7c6fe15-635e-4a5e-ac75-25493c003f22",
   "metadata": {},
   "outputs": [],
   "source": []
  }
 ],
 "metadata": {
  "kernelspec": {
   "display_name": "Python 3 (ipykernel)",
   "language": "python",
   "name": "python3"
  },
  "language_info": {
   "codemirror_mode": {
    "name": "ipython",
    "version": 3
   },
   "file_extension": ".py",
   "mimetype": "text/x-python",
   "name": "python",
   "nbconvert_exporter": "python",
   "pygments_lexer": "ipython3",
   "version": "3.9.7"
  }
 },
 "nbformat": 4,
 "nbformat_minor": 5
}
