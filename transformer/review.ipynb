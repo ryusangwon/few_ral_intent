{
 "cells": [
  {
   "cell_type": "code",
   "execution_count": 12,
   "id": "b1af6a6f-e2fe-4a95-bcbb-ff50a3dca13d",
   "metadata": {},
   "outputs": [],
   "source": [
    "from transformers import pipeline"
   ]
  },
  {
   "cell_type": "code",
   "execution_count": 4,
   "id": "79015043-a6f8-4cd1-b1ef-14024d95e536",
   "metadata": {},
   "outputs": [
    {
     "name": "stderr",
     "output_type": "stream",
     "text": [
      "No model was supplied, defaulted to facebook/bart-large-mnli (https://huggingface.co/facebook/bart-large-mnli)\n"
     ]
    }
   ],
   "source": [
    "classifier = pipeline('zero-shot-classification')"
   ]
  },
  {
   "cell_type": "code",
   "execution_count": 21,
   "id": "67d4ae4b-d0ce-4188-929f-9e0dbb77de0c",
   "metadata": {},
   "outputs": [
    {
     "data": {
      "text/plain": [
       "{'sequence': 'This is a course about the Transformers library',\n",
       " 'labels': ['education', 'business', 'politics'],\n",
       " 'scores': [0.8445988893508911, 0.11197424679994583, 0.04342678561806679]}"
      ]
     },
     "execution_count": 21,
     "metadata": {},
     "output_type": "execute_result"
    }
   ],
   "source": [
    "classifier(\n",
    "    'This is a course about the Transformers library',\n",
    "    candidate_labels=['education', 'politics', 'business'],\n",
    ")"
   ]
  },
  {
   "cell_type": "code",
   "execution_count": 30,
   "id": "2a5f2d53-ea7b-464c-8eca-e341ace3f879",
   "metadata": {},
   "outputs": [
    {
     "name": "stdout",
     "output_type": "stream",
     "text": [
      "해당 글의 목적은 education 입니다.\n"
     ]
    }
   ],
   "source": [
    "scores = classifier(\n",
    "    'This is a course about the Transformers library',\n",
    "    candidate_labels=['education', 'politics', 'business'],\n",
    ")['scores']\n",
    "\n",
    "labels = classifier(\n",
    "    'This is a course about the Transformers library',\n",
    "    candidate_labels=['education', 'politics', 'business'],\n",
    ")['labels']\n",
    "\n",
    "print(\"해당 글의 목적은\", labels[scores.index(max(scores))], \"입니다.\")"
   ]
  },
  {
   "cell_type": "code",
   "execution_count": 6,
   "id": "6c602398-7362-4db2-abcf-b8cbf1b1d900",
   "metadata": {},
   "outputs": [
    {
     "data": {
      "text/plain": [
       "{'sequence': '이 수업은 트랜스포머 라이브러리에 관한 수업이다.',\n",
       " 'labels': ['경제', '교육', '정치'],\n",
       " 'scores': [0.447168231010437, 0.326122909784317, 0.22670884430408478]}"
      ]
     },
     "execution_count": 6,
     "metadata": {},
     "output_type": "execute_result"
    }
   ],
   "source": [
    "classifier(\n",
    "    '이 수업은 트랜스포머 라이브러리에 관한 수업이다.',\n",
    "    candidate_labels=['교육', '정치', '경제'],\n",
    ")"
   ]
  }
 ],
 "metadata": {
  "kernelspec": {
   "display_name": "Python 3",
   "language": "python",
   "name": "python3"
  },
  "language_info": {
   "codemirror_mode": {
    "name": "ipython",
    "version": 3
   },
   "file_extension": ".py",
   "mimetype": "text/x-python",
   "name": "python",
   "nbconvert_exporter": "python",
   "pygments_lexer": "ipython3",
   "version": "3.8.12"
  }
 },
 "nbformat": 4,
 "nbformat_minor": 5
}
